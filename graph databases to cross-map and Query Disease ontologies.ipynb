{
 "cells": [
  {
   "cell_type": "code",
   "execution_count": 79,
   "id": "606499cd",
   "metadata": {},
   "outputs": [],
   "source": [
    "from py2neo import Graph,Node, Relationship\n",
    "import pandas as pd\n",
    "import csv"
   ]
  },
  {
   "cell_type": "code",
   "execution_count": 164,
   "id": "616f7293",
   "metadata": {},
   "outputs": [],
   "source": [
    "# Link with neo4j database\n",
    "# Please change to your own configuration\n",
    "graph = Graph(\n",
    "host=\"127.0.0.1\",\n",
    "port=7687,\n",
    "user=\"neo4j\",\n",
    "password=\"123456789\"\n",
    ")"
   ]
  },
  {
   "cell_type": "code",
   "execution_count": 174,
   "id": "0f713f9e",
   "metadata": {},
   "outputs": [],
   "source": [
    "#Import data to neo4j\n",
    "# Read data prepared\n",
    "with open('Prepared_data.csv', 'r') as file:\n",
    "    reader = csv.DictReader(file)\n",
    "    for row in reader:\n",
    "        # Create dieasea nodes\n",
    "        disease_node = Node(\"Disease\", name=row['Name'])\n",
    "        graph.merge(disease_node, \"Disease\", \"name\")\n",
    "        \n",
    "        # Creating and linking to other clinical ontologies\n",
    "        info_nodes = {}\n",
    "        for column in ['ICD-10', 'OMIM', 'MONDO', 'EFO', 'UMLS', 'NCIT', 'DOID', 'Orphanet']:\n",
    "            if row[column]:\n",
    "                info_node = Node(column.upper(), code=row[column])\n",
    "                graph.merge(info_node, column.upper(), \"code\")\n",
    "                info_nodes[column] = info_node\n",
    "                \n",
    "                # Creatingrelationship\n",
    "                relationship = Relationship(disease_node, \"HAS_\" + column.upper(), info_node)\n",
    "                graph.merge(relationship)\n",
    "\n",
    "        # Creating additional relationships between ontologies\n",
    "        if 'UMLS' in info_nodes:\n",
    "            for target in ['ICD-10', 'NCIT', 'DOID', 'OMIM']:\n",
    "                if target in info_nodes:\n",
    "                    relationship = Relationship(info_nodes['UMLS'], \"INCLUDES\", info_nodes[target])\n",
    "                    graph.merge(relationship)\n",
    "\n",
    "        if 'MONDO' in info_nodes:\n",
    "            for target in ['OMIM', 'DOID', 'Orphanet', 'EFO']:\n",
    "                if target in info_nodes:\n",
    "                    relationship = Relationship(info_nodes['MONDO'], \"INCLUDES\", info_nodes[target])\n",
    "                    graph.merge(relationship)"
   ]
  },
  {
   "cell_type": "code",
   "execution_count": 176,
   "id": "7757276c",
   "metadata": {},
   "outputs": [],
   "source": [
    "#Define a function that can search ontologies code by disease name\n",
    "def fetch_disease_name_by_codes_with_relations(disease_name):\n",
    "    # Cypher query to find all nodes that are related to a known disease name\n",
    "    query = f\"\"\"\n",
    "    MATCH (d:Disease {{name: '{disease_name}'}})-[r]->(related)\n",
    "    RETURN d.name as disease_name, type(r) as relationship_type, related.code as related_code\n",
    "    \"\"\"\n",
    "    # Execution of Cypher queries\n",
    "    results = graph.run(query).data()\n",
    "    # Check for results\n",
    "    if not results:\n",
    "        print(\"No related codes found.\")\n",
    "        return\n",
    "    # Print the information found\n",
    "    for result in results:\n",
    "        print(f\"{result['disease_name']} {result['relationship_type']} code:{result['related_code']}\")\n",
    "    # Get a list of related codes\n",
    "    related_codes = [result['related_code'] for result in results]\n",
    "    # Cypher queries to find additional relationships between related codes\n",
    "    extra_query = \"\"\"\n",
    "    MATCH (a)-[r:INCLUDES]->(b)\n",
    "    WHERE a.code IN $codes OR b.code IN $codes\n",
    "    RETURN type(r) as relationship_type, labels(a) as from_label, labels(b) as to_label\n",
    "    \"\"\"\n",
    "    # Execution of Cypher queries\n",
    "    extra_results = graph.run(extra_query, codes=related_codes).data()\n",
    "    # Print additional relationships found\n",
    "    for result in extra_results:\n",
    "            print(f\"{result['from_label']} {result['relationship_type']}{result['to_label']}\")\n",
    "\n",
    "# Define functions to get relevant disease names and other information through known code\n",
    "def fetch_all_by_known_code(known_code):\n",
    "    # Cypher query to find names of diseases with known code associations\n",
    "    find_disease_query = f\"\"\"\n",
    "    MATCH (d:Disease)-[r]->(related {{code: '{known_code}'}})\n",
    "    RETURN d.name as disease_name\n",
    "    \"\"\"\n",
    "    # Execution of Cypher queries\n",
    "    disease_result = graph.run(find_disease_query).data()\n",
    "    # Check for results\n",
    "    if not disease_result:\n",
    "        print(\"No matching disease found.\")\n",
    "        return\n",
    "    # Get the name of the disease found\n",
    "    disease_name = disease_result[0]['disease_name']\n",
    "    # Use the name of the disease found to get all other relevant information and relationships\n",
    "    fetch_disease_name_by_codes_with_relations(disease_name)"
   ]
  },
  {
   "cell_type": "code",
   "execution_count": 177,
   "id": "2367d463",
   "metadata": {},
   "outputs": [
    {
     "name": "stdout",
     "output_type": "stream",
     "text": [
      "No matching disease found.\n"
     ]
    }
   ],
   "source": [
    "if __name__ == \"__main__\":\n",
    "    #Import ontologies code want to research\n",
    "    fetch_all_by_known_code(\"\")"
   ]
  },
  {
   "cell_type": "code",
   "execution_count": 178,
   "id": "efdba0e8",
   "metadata": {},
   "outputs": [
    {
     "name": "stdout",
     "output_type": "stream",
     "text": [
      "Progressive supranuclear palsy-parkinsonism syndrome HAS_ORPHANET code:Orphanet_240085\n",
      "Progressive supranuclear palsy-parkinsonism syndrome HAS_UMLS code:CN201680\n",
      "Progressive supranuclear palsy-parkinsonism syndrome HAS_MONDO code:MONDO_0009839\n",
      "Progressive supranuclear palsy-parkinsonism syndrome HAS_OMIM code:OMIM_260540\n",
      "Progressive supranuclear palsy-parkinsonism syndrome HAS_ICD-10 code:G23.1\n",
      "['UMLS'] INCLUDES['ICD-10']\n",
      "['UMLS'] INCLUDES['OMIM']\n",
      "['MONDO'] INCLUDES['OMIM']\n",
      "['MONDO'] INCLUDES['ORPHANET']\n",
      "['UMLS'] INCLUDES['ICD-10']\n",
      "['UMLS'] INCLUDES['ICD-10']\n",
      "['UMLS'] INCLUDES['ICD-10']\n",
      "['UMLS'] INCLUDES['ICD-10']\n",
      "['UMLS'] INCLUDES['ICD-10']\n",
      "['UMLS'] INCLUDES['ICD-10']\n"
     ]
    }
   ],
   "source": [
    "#Example\n",
    "if __name__ == \"__main__\":\n",
    "    fetch_all_by_known_code(\"G23.1\")"
   ]
  },
  {
   "cell_type": "code",
   "execution_count": 179,
   "id": "cd20fa5d",
   "metadata": {},
   "outputs": [],
   "source": [
    "#Define a function that can search ontologies code by disease name\n",
    "def fetch_codes_by_disease_name_with_relations(known_disease_name):\n",
    "    # Cypher query to find all nodes that are related to a known disease name\n",
    "    query = f\"\"\"\n",
    "    MATCH (d:Disease {{name: '{known_disease_name}'}})-[r]->(related)\n",
    "    RETURN d.name as disease_name, type(r) as relationship_type, related.code as related_code\n",
    "    \"\"\"\n",
    "    # Execution of Cypher queries\n",
    "    results = graph.run(query).data()\n",
    "    # Check for results\n",
    "    if not results:\n",
    "        print(\"No related codes found.\")\n",
    "        return\n",
    "    # Print the information found\n",
    "    for result in results:\n",
    "        print(f\"{result['disease_name']} {result['relationship_type']} code:{result['related_code']}\")\n",
    "    \n",
    "    related_codes = [result['related_code'] for result in results]\n",
    "    # Cypher queries to find additional relationships between related codes\n",
    "    extra_query = \"\"\"\n",
    "    MATCH (a)-[r:INCLUDES]->(b)\n",
    "    WHERE a.code IN $codes OR b.code IN $codes\n",
    "    RETURN type(r) as relationship_type, labels(a) as from_label, labels(b) as to_label\n",
    "    \"\"\"\n",
    "    # Execution of Cypher queries\n",
    "    extra_results = graph.run(extra_query, codes=related_codes).data()\n",
    "    # Check for results\n",
    "    for result in extra_results:\n",
    "        print(f\"{result['from_label']} {result['relationship_type']}{result['to_label']} \")\n",
    "\n"
   ]
  },
  {
   "cell_type": "code",
   "execution_count": 180,
   "id": "7983d9db",
   "metadata": {},
   "outputs": [
    {
     "name": "stdout",
     "output_type": "stream",
     "text": [
      "No related codes found.\n"
     ]
    }
   ],
   "source": [
    "#Import diease name want to search\n",
    "fetch_codes_by_disease_name_with_relations(\"\")"
   ]
  },
  {
   "cell_type": "code",
   "execution_count": 181,
   "id": "40047fb5",
   "metadata": {},
   "outputs": [
    {
     "name": "stdout",
     "output_type": "stream",
     "text": [
      "Pentalogy of cantrell HAS_ORPHANET code:Orphanet_1335\n",
      "Pentalogy of cantrell HAS_NCIT code:NCIT_C99011\n",
      "Pentalogy of cantrell HAS_UMLS code:C0559483\n",
      "Pentalogy of cantrell HAS_MONDO code:MONDO_0010742\n",
      "Pentalogy of cantrell HAS_OMIM code:OMIM_313850\n",
      "Pentalogy of cantrell HAS_ICD-10 code:Q89.7\n",
      "['UMLS'] INCLUDES['ICD-10'] \n",
      "['UMLS'] INCLUDES['NCIT'] \n",
      "['UMLS'] INCLUDES['OMIM'] \n",
      "['MONDO'] INCLUDES['OMIM'] \n",
      "['MONDO'] INCLUDES['ORPHANET'] \n",
      "['UMLS'] INCLUDES['ICD-10'] \n"
     ]
    }
   ],
   "source": [
    "# Example\n",
    "fetch_codes_by_disease_name_with_relations(\"Pentalogy of cantrell\")"
   ]
  },
  {
   "cell_type": "code",
   "execution_count": 182,
   "id": "36e9787e",
   "metadata": {},
   "outputs": [],
   "source": [
    "#Define a function that can search for diseases that appear in multiple ontologies\n",
    "def find_diseases_by_columns(columns):\n",
    "    # Handle special characters for relationship names and node types\n",
    "    relationships = [f\"HAS_{col.replace('-', '-').upper()}\" if '-' in col else f\"HAS_{col.upper()}\" for col in columns]\n",
    "    \n",
    "    # Create part of a Cypher query to match disease nodes that are related to a specified column\n",
    "    match_clauses = [f\"(d:Disease)-[:`{relationship}`]->(`{col}`:`{col.upper().replace('-', '-')}`)\" \n",
    "                     for relationship, col in zip(relationships, columns)]\n",
    "    match_query = \"MATCH \" + \", \".join(match_clauses)\n",
    "    \n",
    "    # Complete Cypher query returning disease names that are related to all specified columns\n",
    "    query = f\"{match_query} RETURN d.name as disease_name\"\n",
    "    \n",
    "    # Execution of Cypher queries\n",
    "    result = graph.run(query).data()\n",
    "    \n",
    "    # Convert results to DataFrame\n",
    "    df = pd.DataFrame(result)\n",
    "    \n",
    "    return df\n"
   ]
  },
  {
   "cell_type": "code",
   "execution_count": null,
   "id": "5d076e21",
   "metadata": {},
   "outputs": [],
   "source": [
    "#Import ontologies want to research\n",
    "columns_to_query = [\"\"]\n",
    "df = find_diseases_by_columns(columns_to_query)\n",
    "df"
   ]
  },
  {
   "cell_type": "code",
   "execution_count": 184,
   "id": "83fcd9a1",
   "metadata": {},
   "outputs": [
    {
     "data": {
      "text/html": [
       "<div>\n",
       "<style scoped>\n",
       "    .dataframe tbody tr th:only-of-type {\n",
       "        vertical-align: middle;\n",
       "    }\n",
       "\n",
       "    .dataframe tbody tr th {\n",
       "        vertical-align: top;\n",
       "    }\n",
       "\n",
       "    .dataframe thead th {\n",
       "        text-align: right;\n",
       "    }\n",
       "</style>\n",
       "<table border=\"1\" class=\"dataframe\">\n",
       "  <thead>\n",
       "    <tr style=\"text-align: right;\">\n",
       "      <th></th>\n",
       "      <th>disease_name</th>\n",
       "    </tr>\n",
       "  </thead>\n",
       "  <tbody>\n",
       "    <tr>\n",
       "      <th>0</th>\n",
       "      <td>Congestive heart failure</td>\n",
       "    </tr>\n",
       "    <tr>\n",
       "      <th>1</th>\n",
       "      <td>Landau-kleffner syndrome</td>\n",
       "    </tr>\n",
       "    <tr>\n",
       "      <th>2</th>\n",
       "      <td>Reflex epilepsy</td>\n",
       "    </tr>\n",
       "    <tr>\n",
       "      <th>3</th>\n",
       "      <td>Rhabdomyosarcoma of the cervix uteri</td>\n",
       "    </tr>\n",
       "    <tr>\n",
       "      <th>4</th>\n",
       "      <td>Cervical adenosarcoma</td>\n",
       "    </tr>\n",
       "    <tr>\n",
       "      <th>...</th>\n",
       "      <td>...</td>\n",
       "    </tr>\n",
       "    <tr>\n",
       "      <th>2419</th>\n",
       "      <td>Gastroschisis</td>\n",
       "    </tr>\n",
       "    <tr>\n",
       "      <th>2420</th>\n",
       "      <td>Corneal dystrophy</td>\n",
       "    </tr>\n",
       "    <tr>\n",
       "      <th>2421</th>\n",
       "      <td>Diabetic retinopathy</td>\n",
       "    </tr>\n",
       "    <tr>\n",
       "      <th>2422</th>\n",
       "      <td>Lymphoid interstitial pneumonia</td>\n",
       "    </tr>\n",
       "    <tr>\n",
       "      <th>2423</th>\n",
       "      <td>Mast cell leukemia</td>\n",
       "    </tr>\n",
       "  </tbody>\n",
       "</table>\n",
       "<p>2424 rows × 1 columns</p>\n",
       "</div>"
      ],
      "text/plain": [
       "                              disease_name\n",
       "0                 Congestive heart failure\n",
       "1                 Landau-kleffner syndrome\n",
       "2                          Reflex epilepsy\n",
       "3     Rhabdomyosarcoma of the cervix uteri\n",
       "4                    Cervical adenosarcoma\n",
       "...                                    ...\n",
       "2419                         Gastroschisis\n",
       "2420                     Corneal dystrophy\n",
       "2421                  Diabetic retinopathy\n",
       "2422       Lymphoid interstitial pneumonia\n",
       "2423                    Mast cell leukemia\n",
       "\n",
       "[2424 rows x 1 columns]"
      ]
     },
     "execution_count": 184,
     "metadata": {},
     "output_type": "execute_result"
    }
   ],
   "source": [
    "#Example\n",
    "columns_to_query = [\"icd-10\",\"umls\",\"ncit\"]\n",
    "df = find_diseases_by_columns(columns_to_query)\n",
    "df"
   ]
  },
  {
   "cell_type": "code",
   "execution_count": null,
   "id": "3d5a10fb",
   "metadata": {},
   "outputs": [],
   "source": []
  }
 ],
 "metadata": {
  "kernelspec": {
   "display_name": "Python 3 (ipykernel)",
   "language": "python",
   "name": "python3"
  },
  "language_info": {
   "codemirror_mode": {
    "name": "ipython",
    "version": 3
   },
   "file_extension": ".py",
   "mimetype": "text/x-python",
   "name": "python",
   "nbconvert_exporter": "python",
   "pygments_lexer": "ipython3",
   "version": "3.9.13"
  }
 },
 "nbformat": 4,
 "nbformat_minor": 5
}
